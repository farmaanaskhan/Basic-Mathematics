{
 "cells": [
  {
   "cell_type": "markdown",
   "metadata": {},
   "source": [
    "<hr style=\"border:5px solid #108999\"> </hr>"
   ]
  },
  {
   "cell_type": "markdown",
   "metadata": {},
   "source": [
    "# Additional Python Tools <hr style=\"border:4.5px solid #108999\"> </hr>"
   ]
  },
  {
   "cell_type": "markdown",
   "metadata": {},
   "source": [
    "## Using the .format() Method"
   ]
  },
  {
   "cell_type": "markdown",
   "metadata": {},
   "source": [
    "Consider the following string."
   ]
  },
  {
   "cell_type": "code",
   "execution_count": 1,
   "metadata": {},
   "outputs": [
    {
     "data": {
      "text/plain": [
       "\"{} expect their next year's sales of Q{} to {}.\""
      ]
     },
     "execution_count": 1,
     "metadata": {},
     "output_type": "execute_result"
    }
   ],
   "source": [
    "\"{} expect their next year's sales of Q{} to {}.\""
   ]
  },
  {
   "cell_type": "markdown",
   "metadata": {},
   "source": [
    "Use the **.format()** method to substitute the pairs of braces in the string with the following three values, thus obtaining information about the sales of Company A for the third quarter of next year:\n",
    "<br>'Company A'\n",
    "<br>3\n",
    "<br>'increase'"
   ]
  },
  {
   "cell_type": "code",
   "execution_count": 6,
   "metadata": {},
   "outputs": [
    {
     "data": {
      "text/plain": [
       "\"Company A expect their next year's sales of Q3 to increase.\""
      ]
     },
     "execution_count": 6,
     "metadata": {},
     "output_type": "execute_result"
    }
   ],
   "source": [
    "result = \"{} expect their next year's sales of Q{} to {}.\".format('Company A', 3, 'increase')\n",
    "result\n"
   ]
  },
  {
   "cell_type": "markdown",
   "metadata": {},
   "source": [
    "Execute the next cell to create three variables that store information about companies, quarters and sales performance predictions, respectively."
   ]
  },
  {
   "cell_type": "code",
   "execution_count": 9,
   "metadata": {},
   "outputs": [],
   "source": [
    "companies = ['Company A', 'Company B']\n",
    "quarter = [1, 2, 3, 4]\n",
    "sales_performance_prediction = ['increase', 'decrease', 'remain the same']"
   ]
  },
  {
   "cell_type": "markdown",
   "metadata": {},
   "source": [
    "Obtain the same output as above while referring to the three lists you just created. Help yourself with using appropriate indexing.\n",
    "<br>Here's the output you need to aim for as a reference.\n",
    "<br>\"Company A expect their next year's sales of Q3 to increase.\""
   ]
  },
  {
   "cell_type": "code",
   "execution_count": 12,
   "metadata": {},
   "outputs": [
    {
     "data": {
      "text/plain": [
       "\"Company A expect their next year's sales of Q3 to increase.\""
      ]
     },
     "execution_count": 12,
     "metadata": {},
     "output_type": "execute_result"
    }
   ],
   "source": [
    "result = \"{} expect their next year's sales of Q{} to {}.\".format(\n",
    "    companies[0],         # 'Company A'\n",
    "    quarter[2],           # 3 (3rd quarter, index 2)\n",
    "    sales_performance_prediction[0]  # 'increase'\n",
    ")\n",
    "\n",
    "result\n"
   ]
  },
  {
   "cell_type": "markdown",
   "metadata": {},
   "source": [
    "Feel free to experiment with the same line of code while referencing different values from the three lists that have been given."
   ]
  },
  {
   "cell_type": "markdown",
   "metadata": {},
   "source": [
    "Here's an example:"
   ]
  },
  {
   "cell_type": "code",
   "execution_count": 16,
   "metadata": {},
   "outputs": [
    {
     "data": {
      "text/plain": [
       "\"Company B expect their next year's sales of Q4 to remain the same.\""
      ]
     },
     "execution_count": 16,
     "metadata": {},
     "output_type": "execute_result"
    }
   ],
   "source": [
    "\"{} expect their next year's sales of Q{} to {}.\".format(companies[1], quarter[3], sales_performance_prediction[2])"
   ]
  },
  {
   "cell_type": "markdown",
   "metadata": {},
   "source": [
    "## Iterating Over Range Objects, <br><br> Nested For Loops - Introduction, <br><br> Triple Nested For Loops"
   ]
  },
  {
   "cell_type": "markdown",
   "metadata": {},
   "source": [
    "Create a 'range' object with a stop value of 10. \n",
    "Do this operation twice - once without indicating a start value, and then by indicating the start value of 0."
   ]
  },
  {
   "cell_type": "code",
   "execution_count": 20,
   "metadata": {},
   "outputs": [],
   "source": [
    "r1 = range(10)"
   ]
  },
  {
   "cell_type": "code",
   "execution_count": 22,
   "metadata": {},
   "outputs": [
    {
     "data": {
      "text/plain": [
       "[0, 1, 2, 3, 4, 5, 6, 7, 8, 9]"
      ]
     },
     "execution_count": 22,
     "metadata": {},
     "output_type": "execute_result"
    }
   ],
   "source": [
    "list(r1)"
   ]
  },
  {
   "cell_type": "code",
   "execution_count": 24,
   "metadata": {},
   "outputs": [],
   "source": [
    "r2 = range(0, 10)"
   ]
  },
  {
   "cell_type": "code",
   "execution_count": 26,
   "metadata": {},
   "outputs": [
    {
     "data": {
      "text/plain": [
       "[0, 1, 2, 3, 4, 5, 6, 7, 8, 9]"
      ]
     },
     "execution_count": 26,
     "metadata": {},
     "output_type": "execute_result"
    }
   ],
   "source": [
    "list(r2)"
   ]
  },
  {
   "cell_type": "markdown",
   "metadata": {},
   "source": [
    "Turn this 'range' object into a list of values."
   ]
  },
  {
   "cell_type": "code",
   "execution_count": 33,
   "metadata": {},
   "outputs": [
    {
     "data": {
      "text/plain": [
       "[0, 1, 2, 3, 4, 5, 6, 7, 8, 9]"
      ]
     },
     "execution_count": 33,
     "metadata": {},
     "output_type": "execute_result"
    }
   ],
   "source": [
    "list(r2)"
   ]
  },
  {
   "cell_type": "markdown",
   "metadata": {},
   "source": [
    "Obtain all integers from 0 to 9 again, this time using a for-loop with a range() function. Let Python display the values in the output vertically."
   ]
  },
  {
   "cell_type": "code",
   "execution_count": 35,
   "metadata": {},
   "outputs": [
    {
     "name": "stdout",
     "output_type": "stream",
     "text": [
      "0\n",
      "1\n",
      "2\n",
      "3\n",
      "4\n",
      "5\n",
      "6\n",
      "7\n",
      "8\n",
      "9\n"
     ]
    }
   ],
   "source": [
    "for i in range(10):\n",
    "    print(i)\n"
   ]
  },
  {
   "cell_type": "markdown",
   "metadata": {},
   "source": [
    "Repeat the same task, this time printing the values from the output on the same line."
   ]
  },
  {
   "cell_type": "code",
   "execution_count": 37,
   "metadata": {},
   "outputs": [
    {
     "name": "stdout",
     "output_type": "stream",
     "text": [
      "0 1 2 3 4 5 6 7 8 9 "
     ]
    }
   ],
   "source": [
    "for i in range(10):\n",
    "    print(i, end=\" \")\n"
   ]
  },
  {
   "cell_type": "markdown",
   "metadata": {},
   "source": [
    "Create a nested loop that delivers all possible combinations of the elements from the following two lists in the form of lists:"
   ]
  },
  {
   "cell_type": "code",
   "execution_count": 40,
   "metadata": {},
   "outputs": [],
   "source": [
    "products_on_sale = ['Chair_Type_1', 'Chair_Type_2', 'Chair_Type_3', 'Chair_Type_4']\n",
    "sale_prices = [100, 120, 135, 150]"
   ]
  },
  {
   "cell_type": "code",
   "execution_count": 42,
   "metadata": {},
   "outputs": [
    {
     "name": "stdout",
     "output_type": "stream",
     "text": [
      "Chair_Type_1 is of price 100\n",
      "Chair_Type_1 is of price 120\n",
      "Chair_Type_1 is of price 135\n",
      "Chair_Type_1 is of price 150\n",
      "Chair_Type_2 is of price 100\n",
      "Chair_Type_2 is of price 120\n",
      "Chair_Type_2 is of price 135\n",
      "Chair_Type_2 is of price 150\n",
      "Chair_Type_3 is of price 100\n",
      "Chair_Type_3 is of price 120\n",
      "Chair_Type_3 is of price 135\n",
      "Chair_Type_3 is of price 150\n",
      "Chair_Type_4 is of price 100\n",
      "Chair_Type_4 is of price 120\n",
      "Chair_Type_4 is of price 135\n",
      "Chair_Type_4 is of price 150\n"
     ]
    }
   ],
   "source": [
    "products_on_sale = ['Chair_Type_1', 'Chair_Type_2', 'Chair_Type_3', 'Chair_Type_4']\n",
    "sale_prices = [100, 120, 135, 150]\n",
    "\n",
    "for product in products_on_sale:\n",
    "    for price in sale_prices:\n",
    "        print(f\"{product} is of price {price}\")\n"
   ]
  },
  {
   "cell_type": "markdown",
   "metadata": {},
   "source": [
    "Consider the following list with data, which is our third for this exercise. It represents the possible quantities in which the relevant items can be put on sale."
   ]
  },
  {
   "cell_type": "code",
   "execution_count": 45,
   "metadata": {},
   "outputs": [],
   "source": [
    "quantities = [1000, 1500, 1300]"
   ]
  },
  {
   "cell_type": "markdown",
   "metadata": {},
   "source": [
    "Create a triple nested loop that shows the potential revenue generated from each chair type. Use iterator variables with more meaningful names than letters such as i, j, k.\n",
    "<br>Present two versions of the nested loop. Let the first one return a Python list where the chair type is the first element, while the potential revenue is the second element. \n",
    "<br>Then, let the second loop return a more presentable output, where the quantity and potential revenue have been explicitly stated."
   ]
  },
  {
   "cell_type": "code",
   "execution_count": 47,
   "metadata": {},
   "outputs": [
    {
     "name": "stdout",
     "output_type": "stream",
     "text": [
      "Chair_Type_1: Quantity = 1000, Price = 100, Potential Revenue = 100000\n",
      "Chair_Type_1: Quantity = 1500, Price = 100, Potential Revenue = 150000\n",
      "Chair_Type_1: Quantity = 1300, Price = 100, Potential Revenue = 130000\n",
      "Chair_Type_1: Quantity = 1000, Price = 120, Potential Revenue = 120000\n",
      "Chair_Type_1: Quantity = 1500, Price = 120, Potential Revenue = 180000\n",
      "Chair_Type_1: Quantity = 1300, Price = 120, Potential Revenue = 156000\n",
      "Chair_Type_1: Quantity = 1000, Price = 135, Potential Revenue = 135000\n",
      "Chair_Type_1: Quantity = 1500, Price = 135, Potential Revenue = 202500\n",
      "Chair_Type_1: Quantity = 1300, Price = 135, Potential Revenue = 175500\n",
      "Chair_Type_1: Quantity = 1000, Price = 150, Potential Revenue = 150000\n",
      "Chair_Type_1: Quantity = 1500, Price = 150, Potential Revenue = 225000\n",
      "Chair_Type_1: Quantity = 1300, Price = 150, Potential Revenue = 195000\n",
      "Chair_Type_2: Quantity = 1000, Price = 100, Potential Revenue = 100000\n",
      "Chair_Type_2: Quantity = 1500, Price = 100, Potential Revenue = 150000\n",
      "Chair_Type_2: Quantity = 1300, Price = 100, Potential Revenue = 130000\n",
      "Chair_Type_2: Quantity = 1000, Price = 120, Potential Revenue = 120000\n",
      "Chair_Type_2: Quantity = 1500, Price = 120, Potential Revenue = 180000\n",
      "Chair_Type_2: Quantity = 1300, Price = 120, Potential Revenue = 156000\n",
      "Chair_Type_2: Quantity = 1000, Price = 135, Potential Revenue = 135000\n",
      "Chair_Type_2: Quantity = 1500, Price = 135, Potential Revenue = 202500\n",
      "Chair_Type_2: Quantity = 1300, Price = 135, Potential Revenue = 175500\n",
      "Chair_Type_2: Quantity = 1000, Price = 150, Potential Revenue = 150000\n",
      "Chair_Type_2: Quantity = 1500, Price = 150, Potential Revenue = 225000\n",
      "Chair_Type_2: Quantity = 1300, Price = 150, Potential Revenue = 195000\n",
      "Chair_Type_3: Quantity = 1000, Price = 100, Potential Revenue = 100000\n",
      "Chair_Type_3: Quantity = 1500, Price = 100, Potential Revenue = 150000\n",
      "Chair_Type_3: Quantity = 1300, Price = 100, Potential Revenue = 130000\n",
      "Chair_Type_3: Quantity = 1000, Price = 120, Potential Revenue = 120000\n",
      "Chair_Type_3: Quantity = 1500, Price = 120, Potential Revenue = 180000\n",
      "Chair_Type_3: Quantity = 1300, Price = 120, Potential Revenue = 156000\n",
      "Chair_Type_3: Quantity = 1000, Price = 135, Potential Revenue = 135000\n",
      "Chair_Type_3: Quantity = 1500, Price = 135, Potential Revenue = 202500\n",
      "Chair_Type_3: Quantity = 1300, Price = 135, Potential Revenue = 175500\n",
      "Chair_Type_3: Quantity = 1000, Price = 150, Potential Revenue = 150000\n",
      "Chair_Type_3: Quantity = 1500, Price = 150, Potential Revenue = 225000\n",
      "Chair_Type_3: Quantity = 1300, Price = 150, Potential Revenue = 195000\n",
      "Chair_Type_4: Quantity = 1000, Price = 100, Potential Revenue = 100000\n",
      "Chair_Type_4: Quantity = 1500, Price = 100, Potential Revenue = 150000\n",
      "Chair_Type_4: Quantity = 1300, Price = 100, Potential Revenue = 130000\n",
      "Chair_Type_4: Quantity = 1000, Price = 120, Potential Revenue = 120000\n",
      "Chair_Type_4: Quantity = 1500, Price = 120, Potential Revenue = 180000\n",
      "Chair_Type_4: Quantity = 1300, Price = 120, Potential Revenue = 156000\n",
      "Chair_Type_4: Quantity = 1000, Price = 135, Potential Revenue = 135000\n",
      "Chair_Type_4: Quantity = 1500, Price = 135, Potential Revenue = 202500\n",
      "Chair_Type_4: Quantity = 1300, Price = 135, Potential Revenue = 175500\n",
      "Chair_Type_4: Quantity = 1000, Price = 150, Potential Revenue = 150000\n",
      "Chair_Type_4: Quantity = 1500, Price = 150, Potential Revenue = 225000\n",
      "Chair_Type_4: Quantity = 1300, Price = 150, Potential Revenue = 195000\n"
     ]
    }
   ],
   "source": [
    "for product in products_on_sale:\n",
    "    for price in sale_prices:\n",
    "        for quantity in quantities:\n",
    "            potential_revenue = price * quantity\n",
    "            print(f\"{product}: Quantity = {quantity}, Price = {price}, Potential Revenue = {potential_revenue}\")\n"
   ]
  },
  {
   "cell_type": "markdown",
   "metadata": {},
   "source": [
    "## List Comprehensions"
   ]
  },
  {
   "cell_type": "markdown",
   "metadata": {},
   "source": [
    "Execute the code cell below to create the following three lists: **products_on_sale**, **sale_prices**, **quantities**"
   ]
  },
  {
   "cell_type": "code",
   "execution_count": 49,
   "metadata": {},
   "outputs": [],
   "source": [
    "products_on_sale = ['Chair_Type_1', 'Chair_Type_2', 'Chair_Type_3', 'Chair_Type_4']\n",
    "sale_prices = [100, 120, 135, 150]\n",
    "quantities = [1000, 1500, 1300]"
   ]
  },
  {
   "cell_type": "markdown",
   "metadata": {},
   "source": [
    "The following code cell will execute a nested loop that will deliver all possible combinations of the elements from the **products_on_sale**, **sale_prices** and **quantities** lists:"
   ]
  },
  {
   "cell_type": "code",
   "execution_count": 52,
   "metadata": {},
   "outputs": [
    {
     "name": "stdout",
     "output_type": "stream",
     "text": [
      "['Chair_Type_1', 100000]\n",
      "['Chair_Type_1', 150000]\n",
      "['Chair_Type_1', 130000]\n",
      "['Chair_Type_1', 120000]\n",
      "['Chair_Type_1', 180000]\n",
      "['Chair_Type_1', 156000]\n",
      "['Chair_Type_1', 135000]\n",
      "['Chair_Type_1', 202500]\n",
      "['Chair_Type_1', 175500]\n",
      "['Chair_Type_1', 150000]\n",
      "['Chair_Type_1', 225000]\n",
      "['Chair_Type_1', 195000]\n",
      "['Chair_Type_2', 100000]\n",
      "['Chair_Type_2', 150000]\n",
      "['Chair_Type_2', 130000]\n",
      "['Chair_Type_2', 120000]\n",
      "['Chair_Type_2', 180000]\n",
      "['Chair_Type_2', 156000]\n",
      "['Chair_Type_2', 135000]\n",
      "['Chair_Type_2', 202500]\n",
      "['Chair_Type_2', 175500]\n",
      "['Chair_Type_2', 150000]\n",
      "['Chair_Type_2', 225000]\n",
      "['Chair_Type_2', 195000]\n",
      "['Chair_Type_3', 100000]\n",
      "['Chair_Type_3', 150000]\n",
      "['Chair_Type_3', 130000]\n",
      "['Chair_Type_3', 120000]\n",
      "['Chair_Type_3', 180000]\n",
      "['Chair_Type_3', 156000]\n",
      "['Chair_Type_3', 135000]\n",
      "['Chair_Type_3', 202500]\n",
      "['Chair_Type_3', 175500]\n",
      "['Chair_Type_3', 150000]\n",
      "['Chair_Type_3', 225000]\n",
      "['Chair_Type_3', 195000]\n",
      "['Chair_Type_4', 100000]\n",
      "['Chair_Type_4', 150000]\n",
      "['Chair_Type_4', 130000]\n",
      "['Chair_Type_4', 120000]\n",
      "['Chair_Type_4', 180000]\n",
      "['Chair_Type_4', 156000]\n",
      "['Chair_Type_4', 135000]\n",
      "['Chair_Type_4', 202500]\n",
      "['Chair_Type_4', 175500]\n",
      "['Chair_Type_4', 150000]\n",
      "['Chair_Type_4', 225000]\n",
      "['Chair_Type_4', 195000]\n"
     ]
    }
   ],
   "source": [
    "for chair_type in products_on_sale:\n",
    "    for price in sale_prices:\n",
    "        for quantity in quantities:\n",
    "            print ([chair_type, price*quantity])"
   ]
  },
  {
   "cell_type": "markdown",
   "metadata": {},
   "source": [
    "Use a list comprehension to obtain the same output. Store it in a variable called **sales_revenue**. <br/>\n",
    "Make sure you refrain from obtaining any inexistent \"None\" values."
   ]
  },
  {
   "cell_type": "code",
   "execution_count": 54,
   "metadata": {},
   "outputs": [
    {
     "name": "stdout",
     "output_type": "stream",
     "text": [
      "[['Chair_Type_1', 100000], ['Chair_Type_1', 150000], ['Chair_Type_1', 130000], ['Chair_Type_1', 120000], ['Chair_Type_1', 180000], ['Chair_Type_1', 156000], ['Chair_Type_1', 135000], ['Chair_Type_1', 202500], ['Chair_Type_1', 175500], ['Chair_Type_1', 150000], ['Chair_Type_1', 225000], ['Chair_Type_1', 195000], ['Chair_Type_2', 100000], ['Chair_Type_2', 150000], ['Chair_Type_2', 130000], ['Chair_Type_2', 120000], ['Chair_Type_2', 180000], ['Chair_Type_2', 156000], ['Chair_Type_2', 135000], ['Chair_Type_2', 202500], ['Chair_Type_2', 175500], ['Chair_Type_2', 150000], ['Chair_Type_2', 225000], ['Chair_Type_2', 195000], ['Chair_Type_3', 100000], ['Chair_Type_3', 150000], ['Chair_Type_3', 130000], ['Chair_Type_3', 120000], ['Chair_Type_3', 180000], ['Chair_Type_3', 156000], ['Chair_Type_3', 135000], ['Chair_Type_3', 202500], ['Chair_Type_3', 175500], ['Chair_Type_3', 150000], ['Chair_Type_3', 225000], ['Chair_Type_3', 195000], ['Chair_Type_4', 100000], ['Chair_Type_4', 150000], ['Chair_Type_4', 130000], ['Chair_Type_4', 120000], ['Chair_Type_4', 180000], ['Chair_Type_4', 156000], ['Chair_Type_4', 135000], ['Chair_Type_4', 202500], ['Chair_Type_4', 175500], ['Chair_Type_4', 150000], ['Chair_Type_4', 225000], ['Chair_Type_4', 195000]]\n"
     ]
    }
   ],
   "source": [
    "\n",
    "sales_revenue = [\n",
    "    [product, price * quantity]\n",
    "    for product in products_on_sale\n",
    "    for price in sale_prices\n",
    "    for quantity in quantities\n",
    "]\n",
    "\n",
    "print(sales_revenue)\n"
   ]
  },
  {
   "cell_type": "markdown",
   "metadata": {},
   "source": [
    "**List comprehensions with Conditionals**\n",
    "<br> <br> **Conditional on the iterable**"
   ]
  },
  {
   "cell_type": "markdown",
   "metadata": {},
   "source": [
    "Use a list comprehension to return a list with all even numbers between 1 and 10 inclusive, multiplied by 10."
   ]
  },
  {
   "cell_type": "code",
   "execution_count": 57,
   "metadata": {},
   "outputs": [],
   "source": [
    "even_times_ten = [num * 10 for num in range(1, 11) if num % 2 == 0]"
   ]
  },
  {
   "cell_type": "code",
   "execution_count": 59,
   "metadata": {},
   "outputs": [
    {
     "data": {
      "text/plain": [
       "[20, 40, 60, 80, 100]"
      ]
     },
     "execution_count": 59,
     "metadata": {},
     "output_type": "execute_result"
    }
   ],
   "source": [
    "even_times_ten"
   ]
  },
  {
   "cell_type": "markdown",
   "metadata": {},
   "source": [
    "We consider the previous answer as the Pythonic way to obtain the output because it involved the use of a list comprehension.\n",
    "Can you think of a way to obtain identical output using a \"Non-Pythonic\" approach, specifically without employing list comprehensions?"
   ]
  },
  {
   "cell_type": "code",
   "execution_count": 61,
   "metadata": {},
   "outputs": [
    {
     "name": "stdout",
     "output_type": "stream",
     "text": [
      "[20, 40, 60, 80, 100]\n"
     ]
    }
   ],
   "source": [
    "even_times_ten = []\n",
    "for num in range(1, 11):\n",
    "    if num % 2 == 0:\n",
    "        even_times_ten.append(num * 10)\n",
    "\n",
    "print(even_times_ten)\n"
   ]
  },
  {
   "cell_type": "markdown",
   "metadata": {},
   "source": [
    "**Conditional on the output**"
   ]
  },
  {
   "cell_type": "markdown",
   "metadata": {},
   "source": [
    "Return a list that contains the element from range(1, 11) multiplied by 10 if the number is even, and \"None\" if that number is odd."
   ]
  },
  {
   "cell_type": "code",
   "execution_count": 65,
   "metadata": {},
   "outputs": [
    {
     "data": {
      "text/plain": [
       "['None', 20, 'None', 40, 'None', 60, 'None', 80, 'None', 100]"
      ]
     },
     "execution_count": 65,
     "metadata": {},
     "output_type": "execute_result"
    }
   ],
   "source": [
    "result = [num * 10 if num % 2 == 0 else \"None\" for num in range(1, 11)]\n",
    "result"
   ]
  },
  {
   "cell_type": "markdown",
   "metadata": {},
   "source": [
    "## Anonymous Functions"
   ]
  },
  {
   "cell_type": "markdown",
   "metadata": {},
   "source": [
    "Define a function called **multiply_by_10** that will return a value ten times bigger than the argument."
   ]
  },
  {
   "cell_type": "code",
   "execution_count": 67,
   "metadata": {},
   "outputs": [],
   "source": [
    "def multiply_by_10(number):\n",
    "    return number * 10"
   ]
  },
  {
   "cell_type": "code",
   "execution_count": 71,
   "metadata": {},
   "outputs": [
    {
     "data": {
      "text/plain": [
       "30"
      ]
     },
     "execution_count": 71,
     "metadata": {},
     "output_type": "execute_result"
    }
   ],
   "source": [
    "multiply_by_10(3)"
   ]
  },
  {
   "cell_type": "code",
   "execution_count": 73,
   "metadata": {},
   "outputs": [
    {
     "data": {
      "text/plain": [
       "40"
      ]
     },
     "execution_count": 73,
     "metadata": {},
     "output_type": "execute_result"
    }
   ],
   "source": [
    "multiply_by_10(4)"
   ]
  },
  {
   "cell_type": "code",
   "execution_count": 77,
   "metadata": {},
   "outputs": [
    {
     "data": {
      "text/plain": [
       "70"
      ]
     },
     "execution_count": 77,
     "metadata": {},
     "output_type": "execute_result"
    }
   ],
   "source": [
    "multiply_by_10(7)"
   ]
  },
  {
   "cell_type": "markdown",
   "metadata": {},
   "source": [
    "Apply **multiply_by_10** to the argument of 5. Clearly, you should obtain 50."
   ]
  },
  {
   "cell_type": "code",
   "execution_count": 80,
   "metadata": {},
   "outputs": [
    {
     "data": {
      "text/plain": [
       "50"
      ]
     },
     "execution_count": 80,
     "metadata": {},
     "output_type": "execute_result"
    }
   ],
   "source": [
    "multiply_by_10(5)"
   ]
  },
  {
   "cell_type": "markdown",
   "metadata": {},
   "source": [
    "#### Lambda Functions"
   ]
  },
  {
   "cell_type": "markdown",
   "metadata": {},
   "source": [
    "This time, create **multiply_by_10** as a Lambda funciton. Execute it with an argument of 7."
   ]
  },
  {
   "cell_type": "code",
   "execution_count": 82,
   "metadata": {},
   "outputs": [
    {
     "data": {
      "text/plain": [
       "70"
      ]
     },
     "execution_count": 82,
     "metadata": {},
     "output_type": "execute_result"
    }
   ],
   "source": [
    "multiply_by_10 = lambda x: x * 10\n",
    "multiply_by_10(7)"
   ]
  },
  {
   "cell_type": "markdown",
   "metadata": {},
   "source": [
    "Define a Lambda function named **product_xy** that returns the product of two parameters, x and y. Execute it with arguments 4 and 20."
   ]
  },
  {
   "cell_type": "code",
   "execution_count": 86,
   "metadata": {},
   "outputs": [
    {
     "data": {
      "text/plain": [
       "80"
      ]
     },
     "execution_count": 86,
     "metadata": {},
     "output_type": "execute_result"
    }
   ],
   "source": [
    "product_xy = lambda x, y: x * y\n",
    "product_xy(4, 20)"
   ]
  },
  {
   "cell_type": "markdown",
   "metadata": {},
   "source": [
    "Create a Lambda function that returns the output of the following mathematical expression. Execute it with an argument of 13."
   ]
  },
  {
   "cell_type": "code",
   "execution_count": 88,
   "metadata": {},
   "outputs": [
    {
     "name": "stdout",
     "output_type": "stream",
     "text": [
      "33613556.48006783\n"
     ]
    }
   ],
   "source": [
    "expr = lambda x: (135 - x**3)**4 / (1 + x)**5\n",
    "\n",
    "print(expr(13))\n"
   ]
  },
  {
   "cell_type": "code",
   "execution_count": 90,
   "metadata": {},
   "outputs": [
    {
     "data": {
      "text/plain": [
       "33613556.48006783"
      ]
     },
     "execution_count": 90,
     "metadata": {},
     "output_type": "execute_result"
    }
   ],
   "source": [
    "(lambda x: (135 - x**3)**4 / (1 + x)**5)(13)"
   ]
  }
 ],
 "metadata": {
  "kernelspec": {
   "display_name": "Python 3 (ipykernel)",
   "language": "python",
   "name": "python3"
  },
  "language_info": {
   "codemirror_mode": {
    "name": "ipython",
    "version": 3
   },
   "file_extension": ".py",
   "mimetype": "text/x-python",
   "name": "python",
   "nbconvert_exporter": "python",
   "pygments_lexer": "ipython3",
   "version": "3.12.4"
  }
 },
 "nbformat": 4,
 "nbformat_minor": 4
}
